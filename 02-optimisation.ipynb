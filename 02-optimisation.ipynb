{
 "cells": [
  {
   "cell_type": "markdown",
   "metadata": {},
   "source": [
    "# Optimisation\n",
    "\n",
    "Optimisation is the process of iteratively improving the performance on your code. In order to do this, you must first identify the bottlenecks in your code through profiling, so you can focus your effort where it will be most impactful."
   ]
  },
  {
   "cell_type": "markdown",
   "metadata": {},
   "source": [
    "## Should I Optimise my Code?\n",
    "\n",
    "You should not optimise every piece of code that you write. There are some drawbacks to optimised code:\n",
    "* It is often harder to read and understand\n",
    "* It can be more limited in application if it is more specialised\n",
    "* It can be harder to maintain\n",
    "* It can be harder to debug\n",
    "\n",
    "However, the main reason not to optimise your code in every case is the time it takes to optimise it. If you are using a script that takes a minute to run and you think you might run it 100 times over the course of your research, it is probably not worth optimising it. Even if you took the runtime down to almost nothing, you would only save 100 minutes. If it took you a week to make the optimisations, you have wasted time overall.\n",
    "\n",
    "However, sometimes optimisation is very useful, or even necessary. For example, the Imperial HPC has a default maximum runtime of 72 hours. If your calculation cannot be completed in this time, you may be able to optimise your code so it can be. Or if you intend to run your code on a workstation in your lab and it currently takes 12 hours to run, and you expect to need to run it 100 times over the course of your research, you may find it worthwhile to optimise it.\n",
    "\n",
    "If you are considering optimisation it is wise to weigh the time you will save running the code against the time it will cost you to make the optimisations.\n",
    "\n",
    "It is also not advisable to try to write highly optimised code from the start. This is because writing highly efficient code can be more difficult and time-consuming and you may not even need to optimise the code if it runs quickly. Even if you do end up optimising your code, it is often not clear where the bottlenecks in your code will be until you have written it. It is better to write clear, readable, reliable and robust code first."
   ]
  },
  {
   "cell_type": "markdown",
   "metadata": {},
   "source": [
    "## Optimisation Process\n",
    "\n",
    "Once you have decided to optimise your code, you should follow these steps:\n",
    "* **Write tests**: Before you start optimising your code, you should have a test suite that you can use to verify that your code still works after you have made changes. This is important because optimisations can introduce bugs. Ideally this would use a test framework like ```pytest``` or ```unittest``` (note: using a test framework is good practice even if you are not optimising your code).\n",
    "* **Profile**: You should profile your code to identify the bottlenecks. This will help you to focus your optimisation efforts where they will be most impactful.\n",
    "* **Optimise**: You should make changes to your code to improve its performance.\n",
    "* **Test**: You should run your test suite to verify that your code still works after you have made changes.\n",
    "* **Profile**: You should profile your code again to verify that your changes have had the desired effect.\n",
    "* **Repeat**: If your code is still slow enough it's worth optimising further, you should repeat the process from the \"Optimise\" step."
   ]
  },
  {
   "cell_type": "markdown",
   "metadata": {},
   "source": [
    "## Common Optimisation Techniques\n",
    "\n",
    "There are many ways to optimise code, and we won't be going through them in detail here. However, here are some common techniques:\n",
    "* **Use a better algorithm**: A better algorithm or mathematical approach can significantly reduce the number of operations required.\n",
    "* **Use built-in functions**: Built-in functions are often faster than writing your own code.\n",
    "* **Use packages**: Python packages are often highly optimised and can be much faster than writing your own code.\n",
    "* **Vectorisation**: This is a technique where you perform operations on arrays of data rather than individual elements. This can be much faster than using loops.\n",
    "* **Parallelisation**: This is a technique where you run parts of your code in parallel on multiple cores or nodes. This can be much faster than running the code serially.\n",
    "* **Simplification**: Sometimes you can mathematically simplify your code to make it faster by reducing the number of operations required.\n",
    "* **Caching**: Sometimes you can save and reuse the results of expensive operations so you don't have to perform them again.\n",
    "* **Avoiding unnecessary operations**: Sometimes you can avoid performing unnecessary operations.\n",
    "* **Reducing reading and writing**: Reading and writing to disk can be slow, so you should try to reduce the number of times you do this (but don't avoid doing it if it's necessary!).\n",
    "* **Compilation**: Sometimes you can compile your code (e.g. using [```numba```](https://numba.pydata.org/)) to make it faster."
   ]
  }
 ],
 "metadata": {
  "language_info": {
   "name": "python"
  }
 },
 "nbformat": 4,
 "nbformat_minor": 2
}
