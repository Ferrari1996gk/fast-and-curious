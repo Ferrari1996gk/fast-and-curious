{
 "cells": [
  {
   "cell_type": "markdown",
   "metadata": {},
   "source": [
    "# GitHub Copilot\n",
    "\n",
    "[GitHub Copilot](https://docs.github.com/en/copilot) is a tool produced by GitHub that is powered by GPT-4. It is a separate tool to Microsoft Copilot, which you used earlier. Th overlap in name is partially due to the fact that GitHub is owned by Microsoft. \n",
    "\n",
    "Github Copilot is not a free tool, but is available for free to all students via [GitHub education](https://github.com/edu).\n",
    "\n",
    "Copilot is designed to integrate directly with a number of different code editors, including:\n",
    "\n",
    "* [Visual Studio Code](https://marketplace.visualstudio.com/items?itemName=GitHub.copilot)\n",
    "* [Vim/NeoVim](https://docs.github.com/en/copilot/using-github-copilot/using-github-copilot-code-suggestions-in-your-editor?tool=vimneovim)\n",
    "* [Visual Studio](https://marketplace.visualstudio.com/items?itemName=GitHub.copilotvs)\n",
    "* [Jet Brains IDE](https://plugins.jetbrains.com/plugin/17718-github-copilot)\n",
    "* [R Studio](https://docs.posit.co/ide/user/ide/guide/tools/copilot.html)\n",
    "\n",
    "The fact that GitHub Copilot integrates into your editor makes it much more powerful and easier to use for programming than standalone tools like Microsoft Copilot or ChatGPT.\n",
    "\n",
    "In this course, we will be using it in VS Code in relation to the Python programming language. However, Copilot supports many programming languages."
   ]
  },
  {
   "cell_type": "markdown",
   "metadata": {},
   "source": [
    "## Basic Components\n",
    "\n",
    "VS Code has many extensions that can be installed to add additional functionality. These can be accessed via the marketplace, which is accessible from the extensions tab on the left-hand side of the screen.\n",
    "\n",
    "There are two main components to GitHub Copilot are each available as separate extensions in VS Code:\n",
    "\n",
    "- **GitHub Copilot**: This provides code suggestions and completions in the editor window. The extension is [here](vscode:extension/github.copilot).\n",
    "- **GitHub Copilot Chat**: This provides a chat interface to Copilot, allowing you to ask questions and get code suggestions. It can also interact with code in the editor window. The extension is [here](vscode:extension/github.copilot-chat).\n",
    "\n",
    "These extensions are designed to work together and you will typically have both installed. If you're running this notebook in GitHub Codespaces, these extensions should already be installed. If you're running this notebook locally, you can install them by clicking the links above and clicking the \"Install\" button. in order for these extensions to work, you will need to be logged into your GitHub account in VS Code, and to have registered for the GitHub Education programme with the same account.\n",
    "\n",
    "The rest of this notebook will show you some basic examples of how to use GitHub Copilot in VS Code."
   ]
  },
  {
   "cell_type": "markdown",
   "metadata": {},
   "source": [
    "## Autocompletion\n",
    "\n",
    "If you start writing code in the editor, and Copilot will suggest completions. You can accept these completions by pressing `Tab` or `Enter` to accept the entire suggestion. Alternatively, you can press `Ctrl` and the right arrow key to select just the next word. This can be helpful if some, but not all, of the suggestion is appropriate. This autocompletion will work in a number of different contexts, including code cells in Jupyter Notebooks, or within a ```.py``` file.\n",
    "\n",
    "The autocompletion is aware of the code around your cursor, and will suggest completions based on this context. It can use functions already in the code, and can infer a likely purpose of the next piece of code based on the code that has already been written. Sometimes, writing a comment will help guide Copilot to suggest relevant code to you.\n",
    "\n",
    "<center>\n",
    "<img src=\"resources/autocomplete.gif\" alt=\"Copilot automatically completing a function\" width=\"50%\">\n",
    "</center>"
   ]
  },
  {
   "cell_type": "code",
   "execution_count": null,
   "metadata": {},
   "outputs": [],
   "source": []
  },
  {
   "cell_type": "markdown",
   "metadata": {},
   "source": [
    "# In-Editor Prompting\n",
    "\n",
    "In an empty file/code cell, VS Code will display a greyed-out piece of text as follows:\n",
    "\n",
    "<center>\n",
    "<img src=\"resources/prompt_invitation.png\" alt=\"Press Ctrl + I to ask GitHub copilot to do something. Start typing to dismiss\" width=\"50%\">\n",
    "</center>\n",
    "\n",
    "If you press `Ctrl + I`, a text box will appear into which you can write a prompt. Copilot will suggest new code, or changes to existing code based on this prompt. These may be in the form of one or more proposed changes. You may choose to accept ach of these changes by clicking the `Accept` or `Discard` buttons.\n",
    "\n",
    "<center>\n",
    "<img src=\"resources/bubble_sort.png\" alt=\"Press Ctrl + I to ask GitHub copilot to do something. Start typing to dismiss\" width=\"50%\">\n",
    "</center>\n",
    "\n",
    "You ca also highlight an existing piece of code and press `Ctrl + I` to ask Copilot to suggest changes to that code. This can be useful if you have a piece of code that you think could be improved, or if you want to see alternative ways of writing the same code.\n",
    "\n",
    "<center>\n",
    "<img src=\"resources/relative_std.gif\" alt=\"Press Ctrl + I to ask GitHub copilot to do something. Start typing to dismiss\" width=\"50%\">\n",
    "</center>\n",
    "\n",
    "When you do this, you can also click on the button next to `Accept` and `Discard` to see which code Copilot is suggesting removing for each change.\n"
   ]
  },
  {
   "cell_type": "code",
   "execution_count": null,
   "metadata": {},
   "outputs": [],
   "source": []
  },
  {
   "cell_type": "markdown",
   "metadata": {},
   "source": [
    "## Chatting to Copilot"
   ]
  },
  {
   "cell_type": "markdown",
   "metadata": {},
   "source": [
    "You can also chat to Copilot in a manner closer to that of a chatbot like ChatGPT. To do this, you can open the chat window by clicking on the chat icon in the activity bar at the left of the screen. The icon is shown below: \n",
    "\n",
    "<center>\n",
    "<img src=\"resources/copilot_chat_icon.png\" alt=\"Copilot Chat icon\" width=\"100px\">\n",
    "</center>\n",
    "\n",
    "You can type a message to Copilot in the window and it will respond, including suggesting code snippets where relevant. Copilot chat is limited to discussing programming. \n",
    "\n",
    "When answering questions, Copilot will be aware of code in the currently active file, or active code cell in a Jupyter notebook. This can be useful for asking for help with a specific piece of code, or for asking for suggestions on how to implement a particular feature. You can see which pieces of code Copilot Chat considered by expanding the \"Used 1 reference\" section at the start of the response.\n",
    "\n",
    "<center>\n",
    "<img src=\"resources/chat_references.png\" alt=\"Copilot Chat references\" width=\"50%\">\n",
    "</center>\n",
    "\n",
    "If Copilot produces a code snippet that you want to use, you can hover over the snippet and click the \"Copy\" button to copy it to the clipboard, click the \"Insert at Cursor\" button to insert at the location of the cursor in the editor, or Insert it into a new file or the currently active terminal.\n",
    "\n",
    "<center>\n",
    "<img src=\"resources/chat_inserting_code.png\" alt=\"Copilot Chat copy and insert\" width=\"50%\">\n",
    "</center>\n",
    "\n"
   ]
  },
  {
   "cell_type": "code",
   "execution_count": null,
   "metadata": {},
   "outputs": [],
   "source": []
  }
 ],
 "metadata": {
  "kernelspec": {
   "display_name": "Python 3",
   "language": "python",
   "name": "python3"
  },
  "language_info": {
   "name": "python",
   "version": "3.11.9"
  }
 },
 "nbformat": 4,
 "nbformat_minor": 2
}
