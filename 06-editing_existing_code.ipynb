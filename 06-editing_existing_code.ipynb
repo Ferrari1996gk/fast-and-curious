{
 "cells": [
  {
   "cell_type": "markdown",
   "metadata": {},
   "source": [
    "# Editing Existing Code\n",
    "\n",
    "Copilot can be used to edit or add to existing code in a number of useful ways. "
   ]
  },
  {
   "cell_type": "markdown",
   "metadata": {},
   "source": [
    "## Documenting and Commenting Code\n",
    "\n",
    "Properly documenting and commenting code is important for making it understandable and maintainable, particularly if you're collaborating with others, or intend to share your code publicly. It's often a task that programmers choose to put off as it can be time-consuming and tedious. Copilot can help with this by generating comments for you, based on the code you've written.\n",
    "\n",
    "The best way to do this is to highlight a section of code, then press `Ctrl + I`, then type in ```/doc``` to ask Copilot to generate docstrings for any functions in your code. You may have to do this one function at a time, You can also write a command like \"comment this\" to ask Copilot to generate comments for the selected code. You can also type the comment character (```#``` in Python) where you want a comment to be, then use the autocomplete suggestions to generate a comment."
   ]
  },
  {
   "cell_type": "code",
   "execution_count": 1,
   "metadata": {},
   "outputs": [
    {
     "name": "stdout",
     "output_type": "stream",
     "text": [
      "7241.74504880441\n"
     ]
    }
   ],
   "source": [
    "import math\n",
    "\n",
    "def rocket_velocity_change(exhaust_velocity, initial_mass, final_mass):\n",
    "    return exhaust_velocity * math.log(initial_mass / final_mass)\n",
    "\n",
    "\n",
    "def read_value(filepath, value_name):\n",
    "    with open(filepath, 'r') as f:\n",
    "        for line in f:\n",
    "            if line.startswith(value_name):\n",
    "                try:\n",
    "                    return float(line.split()[1])\n",
    "                except IndexError:\n",
    "                    raise ValueError(f'Value \"{value_name}\" was found in file \"{filepath}\" but no value was found after it')\n",
    "                except ValueError:\n",
    "                    raise ValueError(f'Value \"{value_name}\" was found in file \"{filepath}\" but the value after it was not a number')\n",
    "        else:\n",
    "            raise ValueError(f'Value \"{value_name}\" not found in file \"{filepath}\"')\n",
    "\n",
    "\n",
    "def rocket_velocity_change_from_file(filepath):\n",
    "    exhaust_velocity = read_value(filepath, 'exhaust_velocity')\n",
    "    initial_mass = read_value(filepath, 'initial_mass')\n",
    "    final_mass = read_value(filepath, 'final_mass')\n",
    "    return rocket_velocity_change(exhaust_velocity, initial_mass, final_mass)\n",
    "\n",
    "\n",
    "print(rocket_velocity_change_from_file('resources/rocket_input.txt'))\n"
   ]
  },
  {
   "cell_type": "code",
   "execution_count": null,
   "metadata": {},
   "outputs": [],
   "source": []
  }
 ],
 "metadata": {
  "kernelspec": {
   "display_name": "Python 3",
   "language": "python",
   "name": "python3"
  },
  "language_info": {
   "codemirror_mode": {
    "name": "ipython",
    "version": 3
   },
   "file_extension": ".py",
   "mimetype": "text/x-python",
   "name": "python",
   "nbconvert_exporter": "python",
   "pygments_lexer": "ipython3",
   "version": "3.11.9"
  }
 },
 "nbformat": 4,
 "nbformat_minor": 2
}
