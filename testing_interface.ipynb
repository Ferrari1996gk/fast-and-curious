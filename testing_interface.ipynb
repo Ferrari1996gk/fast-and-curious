{
 "cells": [
  {
   "cell_type": "code",
   "execution_count": 1,
   "metadata": {},
   "outputs": [
    {
     "name": "stdout",
     "output_type": "stream",
     "text": [
      "===================================\n",
      "Project: Primes\n",
      "Description: Write primes under n to a specified file.\n",
      "Run: Writing primes under 1000\n",
      "Base Time: 0.7062456607818604\n",
      "Sample Solution Time: 0.09702873229980469\n",
      "Your Success: True\n",
      "Your Time: 0.6943788528442383\n",
      "Points: 0.007359306476265127\n"
     ]
    }
   ],
   "source": [
    "from tests import run_tests\n",
    "\n",
    "run_tests()"
   ]
  },
  {
   "cell_type": "code",
   "execution_count": null,
   "metadata": {},
   "outputs": [],
   "source": []
  }
 ],
 "metadata": {
  "kernelspec": {
   "display_name": "Python 3",
   "language": "python",
   "name": "python3"
  },
  "language_info": {
   "codemirror_mode": {
    "name": "ipython",
    "version": 3
   },
   "file_extension": ".py",
   "mimetype": "text/x-python",
   "name": "python",
   "nbconvert_exporter": "python",
   "pygments_lexer": "ipython3",
   "version": "3.11.9"
  }
 },
 "nbformat": 4,
 "nbformat_minor": 2
}
